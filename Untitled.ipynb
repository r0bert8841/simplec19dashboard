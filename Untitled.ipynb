{
 "cells": [
  {
   "cell_type": "code",
   "execution_count": 8,
   "metadata": {},
   "outputs": [],
   "source": [
    "import pandas as pd\n",
    "import pandasql as ps\n",
    "\n",
    "import os\n",
    "\n",
    "cwd = os.getcwd()\n",
    "filepath = cwd + '/data/combined_ts.csv'\n",
    "\n",
    "df = pd.read_csv(filepath, delimiter=',')"
   ]
  },
  {
   "cell_type": "code",
   "execution_count": 2,
   "metadata": {},
   "outputs": [
    {
     "name": "stdout",
     "output_type": "stream",
     "text": [
      "   Unnamed: 0 abbr  seconds_since_Epoch  tested  positive  deaths\n",
      "0           0   AK           1583651326    20.0       0.0     0.0\n",
      "1           1   AK           1583700172    23.0       0.0     0.0\n",
      "2           2   AK           1583790457    32.0       0.0     0.0\n",
      "3           3   AK           1583880060    47.0       0.0     0.0\n",
      "4           4   AK           1583981097    60.0       0.0     0.0\n"
     ]
    }
   ],
   "source": [
    "df = df.fillna(0)\n",
    "print(df.head(5))"
   ]
  },
  {
   "cell_type": "code",
   "execution_count": 16,
   "metadata": {},
   "outputs": [],
   "source": [
    "q1 = \"\"\"\n",
    "SELECT COUNT(*) \n",
    "FROM df \n",
    "\"\"\"\n",
    " \n"
   ]
  },
  {
   "cell_type": "code",
   "execution_count": 17,
   "metadata": {},
   "outputs": [
    {
     "name": "stdout",
     "output_type": "stream",
     "text": [
      "   COUNT(*)\n",
      "0      5138\n"
     ]
    }
   ],
   "source": [
    "print (ps.sqldf(q1, locals()))"
   ]
  }
 ],
 "metadata": {
  "kernelspec": {
   "display_name": "Python 3",
   "language": "python",
   "name": "python3"
  },
  "language_info": {
   "codemirror_mode": {
    "name": "ipython",
    "version": 3
   },
   "file_extension": ".py",
   "mimetype": "text/x-python",
   "name": "python",
   "nbconvert_exporter": "python",
   "pygments_lexer": "ipython3",
   "version": "3.7.6"
  }
 },
 "nbformat": 4,
 "nbformat_minor": 4
}
